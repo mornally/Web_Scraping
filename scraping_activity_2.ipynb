{
 "cells": [
  {
   "cell_type": "code",
   "execution_count": null,
   "id": "9240cd90-2f9c-4735-be3e-2ba254ec12dd",
   "metadata": {},
   "outputs": [],
   "source": [
    "#Your web scraping script should perform the following tasks:\n",
    "\n",
    "\n",
    "#Click on any popup or light box to make it disappear.\n",
    "\n",
    "\n",
    "#On any given page, scrape the title and the date of each article.\n",
    "\n",
    "\n",
    "#For each article summary, the title and the date should be structured as a dictionary. All dictionaries should be contained in a Python list.\n",
    "\n",
    "\n",
    "#Click the button to go to the next page of older articles, and scrape the article summary on that page as well. Repeat the process for a total of five pages.\n",
    "\n",
    "\n",
    "#Import the scraped data (a list of dictionaries) into a Pandas dataframe. Using Python, Pandas, or both, convert the dates into a useable datetime type.\n",
    "\n",
    "\n",
    "#Remember that you should begin on page 2, and move on to older stories."
   ]
  },
  {
   "cell_type": "code",
   "execution_count": 1,
   "id": "3d3a7085-0e35-40c2-b50f-e5e05667572a",
   "metadata": {},
   "outputs": [],
   "source": [
    "from splinter import Browser\n",
    "from bs4 import BeautifulSoup\n",
    "from webdriver_manager.chrome import ChromeDriverManager"
   ]
  },
  {
   "cell_type": "code",
   "execution_count": 2,
   "id": "9ed171c0-15dd-4af8-8106-5dbef498779f",
   "metadata": {},
   "outputs": [
    {
     "name": "stderr",
     "output_type": "stream",
     "text": [
      "\n",
      "\n",
      "====== WebDriver manager ======\n",
      "Current google-chrome version is 109.0.5414\n",
      "Get LATEST chromedriver version for 109.0.5414 google-chrome\n",
      "Driver [/Users/alejandra/.wdm/drivers/chromedriver/mac64/109.0.5414.74/chromedriver] found in cache\n"
     ]
    }
   ],
   "source": [
    "executable_path = {'executable_path': ChromeDriverManager().install()}\n",
    "browser = Browser('chrome', **executable_path, headless=False)"
   ]
  },
  {
   "cell_type": "code",
   "execution_count": 3,
   "id": "cd92e075-cada-4d61-81a4-96c19b35c532",
   "metadata": {},
   "outputs": [],
   "source": [
    "url = 'https://globalvoices.org/page/2/'\n",
    "browser.visit(url)"
   ]
  },
  {
   "cell_type": "code",
   "execution_count": 5,
   "id": "4ba33695-34ea-4bc1-bab0-eac9b4bebbac",
   "metadata": {},
   "outputs": [],
   "source": [
    "html = browser.html"
   ]
  },
  {
   "cell_type": "code",
   "execution_count": 6,
   "id": "eebaedf8-6f8a-48b6-a47e-a656c81ec72a",
   "metadata": {},
   "outputs": [],
   "source": [
    "soup = BeautifulSoup(html, 'html.parser')"
   ]
  },
  {
   "cell_type": "code",
   "execution_count": 7,
   "id": "9bbdadbe-4a16-440e-bd42-71249b06cfa4",
   "metadata": {},
   "outputs": [],
   "source": [
    "browser.links.find_by_partial_text('No thanks').click()"
   ]
  },
  {
   "cell_type": "code",
   "execution_count": 8,
   "id": "d3360b68-1d98-48f1-b678-f8f377724ded",
   "metadata": {},
   "outputs": [],
   "source": [
    "browser.quit()"
   ]
  },
  {
   "cell_type": "code",
   "execution_count": null,
   "id": "cb4301be-4030-4f19-b40f-ed0b3478a77f",
   "metadata": {},
   "outputs": [],
   "source": []
  }
 ],
 "metadata": {
  "kernelspec": {
   "display_name": "PythonData",
   "language": "python",
   "name": "pythondata"
  },
  "language_info": {
   "codemirror_mode": {
    "name": "ipython",
    "version": 3
   },
   "file_extension": ".py",
   "mimetype": "text/x-python",
   "name": "python",
   "nbconvert_exporter": "python",
   "pygments_lexer": "ipython3",
   "version": "3.9.13"
  }
 },
 "nbformat": 4,
 "nbformat_minor": 5
}
