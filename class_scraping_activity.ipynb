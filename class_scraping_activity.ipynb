{
 "cells": [
  {
   "cell_type": "code",
   "execution_count": 5,
   "id": "bbb34923-332b-44c8-858f-8c64749fe6cf",
   "metadata": {},
   "outputs": [],
   "source": [
    "from splinter import Browser\n",
    "from bs4 import BeautifulSoup\n",
    "from webdriver_manager.chrome import ChromeDriverManager"
   ]
  },
  {
   "cell_type": "code",
   "execution_count": 2,
   "id": "52692a8b-d927-4275-9008-556861012f24",
   "metadata": {},
   "outputs": [
    {
     "name": "stderr",
     "output_type": "stream",
     "text": [
      "\n",
      "\n",
      "====== WebDriver manager ======\n",
      "Current google-chrome version is 109.0.5414\n",
      "Get LATEST chromedriver version for 109.0.5414 google-chrome\n",
      "Driver [/Users/alejandra/.wdm/drivers/chromedriver/mac64/109.0.5414.74/chromedriver] found in cache\n"
     ]
    }
   ],
   "source": [
    "executable_path = {'executable_path': ChromeDriverManager().install()}\n",
    "browser = Browser('chrome', **executable_path, headless=False)"
   ]
  },
  {
   "cell_type": "code",
   "execution_count": 9,
   "id": "f42649f6-cd57-4d75-b895-2d0eb597210b",
   "metadata": {},
   "outputs": [],
   "source": [
    "url = 'https://stackoverflow.com/questions/tagged/python?sort=MostVotes&edited=true'\n",
    "browser.visit(url)"
   ]
  },
  {
   "cell_type": "code",
   "execution_count": 10,
   "id": "9c8bb666-309b-4650-87c4-ad6add2179d2",
   "metadata": {},
   "outputs": [],
   "source": [
    "html = browser.html"
   ]
  },
  {
   "cell_type": "code",
   "execution_count": 11,
   "id": "657e38f1-e9d0-4479-80fd-e185ee16822c",
   "metadata": {},
   "outputs": [],
   "source": [
    "soup = BeautifulSoup(html, 'html.parser')"
   ]
  },
  {
   "cell_type": "code",
   "execution_count": 13,
   "id": "6beb5149-0f66-4334-80de-877a51450bb5",
   "metadata": {},
   "outputs": [
    {
     "data": {
      "text/plain": [
       "\"What is the use of the yield keyword in Python? What does it do?\\nFor example, I'm trying to understand this code1:\\ndef _get_child_candidates(self, distance, min_dist, max_dist):\\n    if self._leftchild ...\""
      ]
     },
     "execution_count": 13,
     "metadata": {},
     "output_type": "execute_result"
    }
   ],
   "source": [
    "soup.find('div', class_='s-post-summary--content-excerpt').text.strip()"
   ]
  },
  {
   "cell_type": "code",
   "execution_count": 15,
   "id": "a43d82be-b3f8-4697-95cd-50ddcb158272",
   "metadata": {},
   "outputs": [
    {
     "data": {
      "text/plain": [
       "'12489'"
      ]
     },
     "execution_count": 15,
     "metadata": {},
     "output_type": "execute_result"
    }
   ],
   "source": [
    "soup.find('span', class_='s-post-summary--stats-item-number').text"
   ]
  },
  {
   "cell_type": "code",
   "execution_count": 16,
   "id": "9b42a329-6d0a-45bc-8170-936b7ad57402",
   "metadata": {},
   "outputs": [],
   "source": [
    "browser.quit()"
   ]
  },
  {
   "cell_type": "code",
   "execution_count": null,
   "id": "456b80dc-862b-46d0-a96a-41f9884441ef",
   "metadata": {},
   "outputs": [],
   "source": []
  }
 ],
 "metadata": {
  "kernelspec": {
   "display_name": "PythonData",
   "language": "python",
   "name": "pythondata"
  },
  "language_info": {
   "codemirror_mode": {
    "name": "ipython",
    "version": 3
   },
   "file_extension": ".py",
   "mimetype": "text/x-python",
   "name": "python",
   "nbconvert_exporter": "python",
   "pygments_lexer": "ipython3",
   "version": "3.9.13"
  }
 },
 "nbformat": 4,
 "nbformat_minor": 5
}
